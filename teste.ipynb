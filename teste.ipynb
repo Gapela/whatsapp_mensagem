{
 "cells": [
  {
   "cell_type": "code",
   "execution_count": 56,
   "metadata": {},
   "outputs": [],
   "source": [
    "# import bibliotecas\n",
    "\n",
    "from selenium import webdriver\n",
    "from selenium.webdriver.common.by import By\n",
    "from selenium.webdriver.common.keys import Keys\n",
    "\n",
    "import pandas as pd\n",
    "\n",
    "import urllib\n",
    "\n",
    "import time"
   ]
  },
  {
   "cell_type": "code",
   "execution_count": 57,
   "metadata": {},
   "outputs": [],
   "source": [
    "#Selenium\n",
    "navegador = webdriver.Chrome()\n",
    "navegador.get('https://web.whatsapp.com')\n",
    "\n",
    "# espera a tela carregar\n",
    "while len(navegador.find_elements(By.ID, 'side')) < 1:\n",
    "    time.sleep(1)\n",
    "time.sleep(2)"
   ]
  },
  {
   "cell_type": "code",
   "execution_count": 58,
   "metadata": {},
   "outputs": [],
   "source": [
    "# import de dados\n",
    "tabela = pd.read_excel(\"msg_wpp.xlsx\")"
   ]
  },
  {
   "cell_type": "code",
   "execution_count": 59,
   "metadata": {},
   "outputs": [],
   "source": [
    "for linha in tabela.index:\n",
    "    nome = tabela.loc[linha, \"nome\"]\n",
    "    numero = tabela.loc[linha, \"numero\"]\n",
    "    mensagem = tabela.loc[linha, \"mensagem\"]\n",
    "\n",
    "    texto = mensagem.replace(\"NOME\", nome)\n",
    "    texto = urllib.parse.quote(texto)\n",
    "    \n",
    "    # enviar msg\n",
    "    link = f\"https://web.whatsapp.com/send?phone={numero}&text={texto}\"\n",
    "\n",
    "    # abrir o link\n",
    "    navegador.get(link)\n",
    "\n",
    "    # espera a tela carregar\n",
    "    while len(navegador.find_elements(By.ID, 'side')) < 1:\n",
    "        time.sleep(1)\n",
    "    time.sleep(2)\n",
    "\n",
    "\n",
    "    # enviar mensagem\n",
    "    navegador.find_element(By.XPATH, '//*[@id=\"main\"]/footer/div[1]/div/span[2]/div/div[2]/div[2]/button/span').click()\n",
    "    time.sleep(2)\n"
   ]
  }
 ],
 "metadata": {
  "kernelspec": {
   "display_name": "env",
   "language": "python",
   "name": "python3"
  },
  "language_info": {
   "codemirror_mode": {
    "name": "ipython",
    "version": 3
   },
   "file_extension": ".py",
   "mimetype": "text/x-python",
   "name": "python",
   "nbconvert_exporter": "python",
   "pygments_lexer": "ipython3",
   "version": "3.10.11"
  },
  "orig_nbformat": 4
 },
 "nbformat": 4,
 "nbformat_minor": 2
}
